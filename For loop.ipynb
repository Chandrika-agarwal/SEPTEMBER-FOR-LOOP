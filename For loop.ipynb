{
 "cells": [
  {
   "cell_type": "code",
   "execution_count": 1,
   "id": "00eca947-3c86-4b0e-a0fc-c21fce02585a",
   "metadata": {},
   "outputs": [],
   "source": [
    "#Basic Level:"
   ]
  },
  {
   "cell_type": "code",
   "execution_count": 1,
   "id": "5942bf6e-33d0-418e-a5ff-842c6db0bbfe",
   "metadata": {},
   "outputs": [
    {
     "name": "stdout",
     "output_type": "stream",
     "text": [
      "1\n",
      "2\n",
      "3\n",
      "4\n",
      "5\n",
      "6\n",
      "7\n",
      "8\n",
      "9\n",
      "10\n"
     ]
    }
   ],
   "source": [
    "for i in range(1, 11):\n",
    "    print(i)"
   ]
  },
  {
   "cell_type": "code",
   "execution_count": 2,
   "id": "e9fb47c0-c6c0-42c4-baac-febca4fd8817",
   "metadata": {},
   "outputs": [
    {
     "name": "stdout",
     "output_type": "stream",
     "text": [
      "The sum of all numbers in the list is: 15\n"
     ]
    }
   ],
   "source": [
    "numbers = [1, 2, 3, 4, 5]\n",
    "sum = 0\n",
    "\n",
    "for number in numbers:\n",
    "    sum += number\n",
    "\n",
    "print(\"The sum of all numbers in the list is:\", sum)"
   ]
  },
  {
   "cell_type": "code",
   "execution_count": 3,
   "id": "ac368474-607d-465f-908f-4958e57f36df",
   "metadata": {},
   "outputs": [
    {
     "name": "stdout",
     "output_type": "stream",
     "text": [
      "The characters of the string in reverse order are: !dlroW ,olleH\n"
     ]
    }
   ],
   "source": [
    "input_string = \"Hello, World!\"\n",
    "reverse_string = \"\"\n",
    "\n",
    "for character in input_string:\n",
    "    reverse_string = character + reverse_string\n",
    "\n",
    "print(\"The characters of the string in reverse order are:\", reverse_string)"
   ]
  },
  {
   "cell_type": "code",
   "execution_count": 4,
   "id": "84a52346-a15d-4958-a6f1-0b2f702d3c94",
   "metadata": {},
   "outputs": [
    {
     "name": "stdin",
     "output_type": "stream",
     "text": [
      "Enter a number to calculate its factorial:  5\n"
     ]
    },
    {
     "name": "stdout",
     "output_type": "stream",
     "text": [
      "The factorial of 5 is: 120\n"
     ]
    }
   ],
   "source": [
    "def factorial(n):\n",
    "    result = 1\n",
    "    for i in range(1, n + 1):\n",
    "        result *= i\n",
    "    return result\n",
    "\n",
    "number = int(input(\"Enter a number to calculate its factorial: \"))\n",
    "print(\"The factorial of\", number, \"is:\", factorial(number))"
   ]
  },
  {
   "cell_type": "code",
   "execution_count": 5,
   "id": "81b2a68d-a6ce-4c9a-8e17-d3a5e23bfab6",
   "metadata": {},
   "outputs": [
    {
     "name": "stdin",
     "output_type": "stream",
     "text": [
      "Enter a number to calculate its multiplication table:  9\n"
     ]
    },
    {
     "name": "stdout",
     "output_type": "stream",
     "text": [
      "The multiplication table of 9 is:\n",
      "9 x 1 = 9\n",
      "9 x 2 = 18\n",
      "9 x 3 = 27\n",
      "9 x 4 = 36\n",
      "9 x 5 = 45\n",
      "9 x 6 = 54\n",
      "9 x 7 = 63\n",
      "9 x 8 = 72\n",
      "9 x 9 = 81\n",
      "9 x 10 = 90\n"
     ]
    }
   ],
   "source": [
    "def multiplication_table(n):\n",
    "    for i in range(1, 11):\n",
    "        print(n, \"x\", i, \"=\", n * i)\n",
    "\n",
    "number = int(input(\"Enter a number to calculate its multiplication table: \"))\n",
    "print(\"The multiplication table of\", number, \"is:\")\n",
    "multiplication_table(number)"
   ]
  },
  {
   "cell_type": "code",
   "execution_count": 6,
   "id": "962daa52-079f-480e-a16a-0ea026fef516",
   "metadata": {},
   "outputs": [
    {
     "name": "stdout",
     "output_type": "stream",
     "text": [
      "Number of even numbers: 4\n",
      "Number of odd numbers: 5\n"
     ]
    }
   ],
   "source": [
    "\n",
    "            odd_count += 1\n",
    "\n",
    "    return even_count, odd_count\n",
    "\n",
    "numbers = [1, 2, 3, 4, 5, 6, 7, 8, 9]\n",
    "even_count, odd_count = count_even_odd(numbers)\n",
    "\n",
    "print(f\"Number of even numbers: {even_count}\")def count_even_odd(numbers):\n",
    "    even_count = 0\n",
    "    odd_count = 0\n",
    "\n",
    "    for num in numbers:\n",
    "        if num % 2 == 0:\n",
    "            even_count += 1\n",
    "        else:\n",
    "print(f\"Number of odd numbers: {odd_count}\")"
   ]
  },
  {
   "cell_type": "code",
   "execution_count": 11,
   "id": "024f4ba7-6ba5-404a-8cfa-ff89e694e89a",
   "metadata": {},
   "outputs": [
    {
     "name": "stdout",
     "output_type": "stream",
     "text": [
      "The square of 1 is 1\n",
      "The square of 2 is 4\n",
      "The square of 3 is 9\n",
      "The square of 4 is 16\n",
      "The square of 5 is 25\n",
      "The square of 6 is 36\n",
      "The square of 7 is 49\n",
      "The square of 8 is 64\n",
      "The square of 9 is 81\n"
     ]
    }
   ],
   "source": [
    "def print_squares(n):\n",
    "    for i in range(1, n + 5):\n",
    "        print(f\"The square of {i} is {i ** 2}\")\n",
    "\n",
    "print_squares(5)"
   ]
  },
  {
   "cell_type": "code",
   "execution_count": 12,
   "id": "41771b37-2394-4744-8d5d-06e2bdb423a0",
   "metadata": {},
   "outputs": [
    {
     "name": "stdout",
     "output_type": "stream",
     "text": [
      "The length of the string is 13\n"
     ]
    }
   ],
   "source": [
    "def find_length(input_string):\n",
    "    length = 0\n",
    "    while input_string[length:]:\n",
    "        length += 1\n",
    "    return length\n",
    "\n",
    "test_string = \"Hello, World!\"\n",
    "print(f\"The length of the string is {find_length(test_string)}\")"
   ]
  },
  {
   "cell_type": "code",
   "execution_count": 13,
   "id": "0cbbd7e4-783d-4d5d-b55d-9ef93402f2aa",
   "metadata": {},
   "outputs": [
    {
     "name": "stdout",
     "output_type": "stream",
     "text": [
      "The average of the list is 30.0\n"
     ]
    }
   ],
   "source": [
    "def find_average(input_list):\n",
    "    sum = 0\n",
    "    count = 0\n",
    "    for number in input_list:\n",
    "        sum += number\n",
    "        count += 1\n",
    "    return sum / count\n",
    "\n",
    "test_list = [10, 20, 30, 40, 50]\n",
    "print(f\"The average of the list is {find_average(test_list)}\")"
   ]
  },
  {
   "cell_type": "code",
   "execution_count": 15,
   "id": "a5f1e1cb-07e4-4a07-8bfa-4ead5dbb0ca2",
   "metadata": {},
   "outputs": [
    {
     "name": "stdout",
     "output_type": "stream",
     "text": [
      "The first 10 Fibonacci numbers are [0, 1, 1, 2, 3, 5, 8, 13, 21, 34]\n"
     ]
    }
   ],
   "source": [
    "def fibonacci(n):\n",
    "    a, b = 0, 1\n",
    "    fibonacci_sequence = []\n",
    "    for i in range(n):\n",
    "        fibonacci_sequence.append(a)\n",
    "        a, b = b, a + b\n",
    "    return fibonacci_sequence\n",
    "\n",
    "n = 10\n",
    "print(f\"The first {n} Fibonacci numbers are {fibonacci(n)}\")"
   ]
  },
  {
   "cell_type": "code",
   "execution_count": null,
   "id": "4c8eecba-f6b2-45ce-ac9d-586a7b5da9cd",
   "metadata": {},
   "outputs": [],
   "source": [
    "#Intermediate Level:"
   ]
  },
  {
   "cell_type": "code",
   "execution_count": 16,
   "id": "78d6c52c-d97b-4229-85a2-1420aa1394f6",
   "metadata": {},
   "outputs": [
    {
     "name": "stdout",
     "output_type": "stream",
     "text": [
      "The list [1, 2, 3, 4, 5, 6, 7, 8, 9, 10] contains duplicates: False\n"
     ]
    }
   ],
   "source": [
    "def check_duplicates(lst):\n",
    "    for i in range(len(lst)):\n",
    "        for j in range(i + 1, len(lst)):\n",
    "            if lst[i] == lst[j]:\n",
    "                return True\n",
    "    return False\n",
    "\n",
    "lst = [1, 2, 3, 4, 5, 6, 7, 8, 9, 10]\n",
    "print(f\"The list {lst} contains duplicates: {check_duplicates(lst)}\")"
   ]
  },
  {
   "cell_type": "code",
   "execution_count": 17,
   "id": "863f8cea-cc8a-405d-9bba-d3939cf6eaf7",
   "metadata": {},
   "outputs": [
    {
     "name": "stdout",
     "output_type": "stream",
     "text": [
      "2\n",
      "3\n",
      "5\n",
      "7\n",
      "11\n",
      "13\n",
      "17\n",
      "19\n",
      "23\n",
      "29\n",
      "31\n",
      "37\n",
      "41\n",
      "43\n",
      "47\n",
      "53\n",
      "59\n",
      "61\n",
      "67\n",
      "71\n",
      "73\n",
      "79\n",
      "83\n",
      "89\n",
      "97\n"
     ]
    }
   ],
   "source": [
    "def is_prime(n):\n",
    "    if n <= 1:\n",
    "        return False\n",
    "    if n <= 3:\n",
    "        return True\n",
    "    if n % 2 == 0 or n % 3 == 0:\n",
    "        return False\n",
    "    i = 5\n",
    "    while i * i <= n:\n",
    "        if n % i == 0 or n % (i + 2) == 0:\n",
    "            return False\n",
    "        i += 6\n",
    "    return True\n",
    "\n",
    "def print_primes(start, end):\n",
    "    for i in range(start, end + 1):\n",
    "        if is_prime(i):\n",
    "            print(i)\n",
    "\n",
    "start = 1\n",
    "end = 100\n",
    "print_primes(start, end)"
   ]
  },
  {
   "cell_type": "code",
   "execution_count": 18,
   "id": "1b594f1d-b432-467e-b339-e9eebe459efe",
   "metadata": {},
   "outputs": [
    {
     "name": "stdout",
     "output_type": "stream",
     "text": [
      "Number of vowels: 3\n"
     ]
    }
   ],
   "source": [
    "def count_vowels(string):\n",
    "    vowels = \"aeiouAEIOU\"\n",
    "zzz    for char in string:\n",
    "        if char in vowels:\n",
    "            count += 1\n",
    "    return count\n",
    "\n",
    "string = \"Hello, World!\"\n",
    "count = count_vowels(string)\n",
    "print(\"Number of vowels:\", count)"
   ]
  },
  {
   "cell_type": "code",
   "execution_count": 20,
   "id": "6add2485-ecd2-449e-92b0-b4c06d4cf0eb",
   "metadata": {},
   "outputs": [
    {
     "name": "stdout",
     "output_type": "stream",
     "text": [
      "Maximum element: 9\n"
     ]
    }
   ],
   "source": [
    "def find_max(matrix):\n",
    "    max_value = float('-inf')\n",
    "    for row in matrix:\n",
    "        for element in row:\n",
    "            if element > max_value:\n",
    "                max_value = element\n",
    "    return max_value\n",
    "\n",
    "matrix = [[1, 2, 3], [4, 5, 6], [7, 8, 9]]\n",
    "max_value = find_max(matrix)\n",
    "print(\"Maximum element:\", max_value)"
   ]
  },
  {
   "cell_type": "code",
   "execution_count": 21,
   "id": "83a54f9a-974a-4119-aaba-7ca0a88eec5a",
   "metadata": {},
   "outputs": [
    {
     "name": "stdout",
     "output_type": "stream",
     "text": [
      "List after removing element 2 : [1, 3, 4, 5, 6, 7, 8, 9]\n"
     ]
    }
   ],
   "source": [
    "def remove_element(input_list, element_to_remove):\n",
    "    for i in range(len(input_list) - 1, -1, -1):\n",
    "        if input_list[i] == element_to_remove:\n",
    "            del input_list[i]\n",
    "    return input_list\n",
    "\n",
    "input_list = [1, 2, 3, 4, 2, 5, 2, 6, 7, 8, 9]\n",
    "element_to_remove = 2\n",
    "result_list = remove_element(input_list, element_to_remove)\n",
    "print(\"List after removing element\", element_to_remove, \":\", result_list)"
   ]
  },
  {
   "cell_type": "code",
   "execution_count": 22,
   "id": "5c8375fa-4382-4397-9467-b4b1e4141ac5",
   "metadata": {},
   "outputs": [
    {
     "name": "stdout",
     "output_type": "stream",
     "text": [
      "1\t2\t3\t4\t5\t\n",
      "\n",
      "2\t4\t6\t8\t10\t\n",
      "\n",
      "3\t6\t9\t12\t15\t\n",
      "\n",
      "4\t8\t12\t16\t20\t\n",
      "\n",
      "5\t10\t15\t20\t25\t\n",
      "\n"
     ]
    }
   ],
   "source": [
    "def print_multiplication_table(n):\n",
    "    for i in range(1, n + 1):\n",
    "        for j in range(1, n + 1):\n",
    "            print(i * j, end=\"\\t\")\n",
    "        print(\"\\n\")\n",
    "\n",
    "print_multiplication_table(5)"
   ]
  },
  {
   "cell_type": "code",
   "execution_count": 23,
   "id": "8798aabb-ac2b-4410-82fe-407d0732750a",
   "metadata": {},
   "outputs": [
    {
     "name": "stdout",
     "output_type": "stream",
     "text": [
      "[0.0, 7.222222222222222, 15.555555555555555, 23.88888888888889, 32.22222222222222]\n"
     ]
    }
   ],
   "source": [
    "def convert_fahrenheit_to_celsius(fahrenheit_list):\n",
    "    celsius_list = []\n",
    "    for fahrenheit in fahrenheit_list:\n",
    "        celsius = (fahrenheit - 32) * 5.0 / 9.0\n",
    "        celsius_list.append(celsius)\n",
    "    return celsius_list\n",
    "\n",
    "fahrenheit_temperatures = [32, 45, 60, 75, 90]\n",
    "celsius_temperatures = convert_fahrenheit_to_celsius(fahrenheit_temperatures)\n",
    "print(celsius_temperatures)"
   ]
  },
  {
   "cell_type": "code",
   "execution_count": 24,
   "id": "426bbf60-307f-45da-95d6-b67e9603f6cb",
   "metadata": {},
   "outputs": [
    {
     "name": "stdout",
     "output_type": "stream",
     "text": [
      "[4, 5]\n"
     ]
    }
   ],
   "source": [
    "def common_elements(list1, list2):\n",
    "    common_list = []\n",
    "    for element in list1:\n",
    "        if element in list2:\n",
    "            common_list.append(element)\n",
    "    return common_list\n",
    "\n",
    "list1 = [1, 2, 3, 4, 5]\n",
    "list2 = [4, 5, 6, 7, 8]\n",
    "common_elements_list = common_elements(list1, list2)\n",
    "print(common_elements_list)"
   ]
  },
  {
   "cell_type": "code",
   "execution_count": 25,
   "id": "8b177387-00cf-4716-8a49-6fb9749d5042",
   "metadata": {},
   "outputs": [
    {
     "name": "stdout",
     "output_type": "stream",
     "text": [
      "* \n",
      "* * \n",
      "* * * \n",
      "* * * * \n",
      "* * * * * \n"
     ]
    }
   ],
   "source": [
    "def pattern(n):\n",
    "    for i in range(n):\n",
    "        for j in range(i+1):\n",
    "            print(\"* \", end=\"\")\n",
    "        print()\n",
    "\n",
    "pattern(5)"
   ]
  },
  {
   "cell_type": "code",
   "execution_count": 26,
   "id": "6c5e7193-4fc1-4331-960c-926443e05623",
   "metadata": {},
   "outputs": [
    {
     "name": "stdout",
     "output_type": "stream",
     "text": [
      "6\n"
     ]
    }
   ],
   "source": [
    "def gcd(a, b):\n",
    "    for i in range(min(a, b), 0, -1):\n",
    "        if a % i == 0 and b % i == 0:\n",
    "            return i\n",
    "\n",
    "print(gcd(24, 18))"
   ]
  },
  {
   "cell_type": "code",
   "execution_count": null,
   "id": "7fbbd517-5f82-4bc3-a8e7-82a3ae3ff7bc",
   "metadata": {},
   "outputs": [],
   "source": [
    "#Advanced Level:"
   ]
  },
  {
   "cell_type": "code",
   "execution_count": 2,
   "id": "ae796111-837a-4492-8306-4c299e6333a2",
   "metadata": {},
   "outputs": [
    {
     "name": "stdout",
     "output_type": "stream",
     "text": [
      "45\n"
     ]
    }
   ],
   "source": [
    "def calculate_sum_of_digits(numbers):\n",
    "    return sum(int(digit) for number in numbers for digit in str(number))\n",
    "\n",
    "numbers = [12, 34, 56, 78, 90]\n",
    "print(calculate_sum_of_digits(numbers)) # Output: 15"
   ]
  },
  {
   "cell_type": "code",
   "execution_count": 3,
   "id": "294a34ad-b6a1-4fd3-96ee-6a075fae9014",
   "metadata": {},
   "outputs": [
    {
     "name": "stdout",
     "output_type": "stream",
     "text": [
      "[2, 3, 5]\n"
     ]
    }
   ],
   "source": [
    "def is_prime(number):\n",
    "    if number <= 1:\n",
    "        return False\n",
    "    if number <= 3:\n",
    "        return True\n",
    "    if number % 2 == 0 or number % 3 == 0:\n",
    "        return False\n",
    "    i = 5\n",
    "    while i * i <= number:\n",
    "        if number % i == 0 or number % (i + 2) == 0:\n",
    "            return False\n",
    "        i += 6\n",
    "    return True\n",
    "\n",
    "def calculate_prime_factors(number):\n",
    "    if number < 2:\n",
    "        return []\n",
    "    factors = []\n",
    "    for i in range(2, int(number**0.5) + 1):\n",
    "        if number % i == 0:\n",
    "            if is_prime(i):\n",
    "                factors.append(i)\n",
    "            if is_prime(number // i):\n",
    "                factors.append(number // i)\n",
    "    return sorted(list(set(factors)))\n",
    "\n",
    "number = 60\n",
    "print(calculate_prime_factors(number)) # Output: [2, 3, 5]"
   ]
  },
  {
   "cell_type": "code",
   "execution_count": 4,
   "id": "00d6320e-5851-481f-87ca-fa2c804d205d",
   "metadata": {},
   "outputs": [
    {
     "name": "stdout",
     "output_type": "stream",
     "text": [
      "[]\n"
     ]
    }
   ],
   "source": [
    "def extract_unique_elements(input_list):\n",
    "    return [element for element in input_list if input_list.count(element) == 1]\n",
    "\n",
    "input_list = [1, 2, 3, 4, 5, 1, 2, 3, 4, 5]\n",
    "print(extract_unique_elements(input_list)) # Output: []"
   ]
  },
  {
   "cell_type": "code",
   "execution_count": 5,
   "id": "d2242c4d-1249-4b6e-91bd-77d03d34568c",
   "metadata": {},
   "outputs": [
    {
     "name": "stdout",
     "output_type": "stream",
     "text": [
      "[0, 1, 2, 3, 4, 5, 6, 7, 8, 9, 11, 22, 33, 44, 55, 66, 77, 88, 99, 101, 111, 121, 131, 141, 151, 161, 171, 181, 191, 202, 212, 222, 232, 242, 252, 262, 272, 282, 292, 303, 313, 323, 333, 343, 353, 363, 373, 383, 393, 404, 414, 424, 434, 444, 454, 464, 474, 484, 494, 505, 515, 525, 535, 545, 555, 565, 575, 585, 595, 606, 616, 626, 636, 646, 656, 666, 676, 686, 696, 707, 717, 727, 737, 747, 757, 767, 777, 787, 797, 808, 818, 828, 838, 848, 858, 868, 878, 888, 898, 909, 919, 929, 939, 949, 959, 969, 979, 989, 999]\n"
     ]
    }
   ],
   "source": [
    "def generate_palindromic_numbers(limit):\n",
    "    return [number for number in range(limit + 1) if str(number) == str(number)[::-1]]\n",
    "\n",
    "limit = 1000\n",
    "print(generate_palindromic_numbers(limit))"
   ]
  },
  {
   "cell_type": "code",
   "execution_count": 6,
   "id": "66d3798e-d555-4656-9cbb-be4ba08c4600",
   "metadata": {},
   "outputs": [
    {
     "name": "stdout",
     "output_type": "stream",
     "text": [
      "[1, 2, 3, 4, 5, 6, 7, 8, 9]\n"
     ]
    }
   ],
   "source": [
    "def flatten_nested_list(nested_list):\n",
    "    return [item for sublist in nested_list for item in sublist]\n",
    "\n",
    "nested_list = [[1, 2, 3], [4, 5, 6], [7, 8, 9]]\n",
    "print(flatten_nested_list(nested_list))"
   ]
  },
  {
   "cell_type": "code",
   "execution_count": 7,
   "id": "68875e4e-6114-4ee3-b045-95ba7a034495",
   "metadata": {},
   "outputs": [
    {
     "name": "stdout",
     "output_type": "stream",
     "text": [
      "(20, 25)\n"
     ]
    }
   ],
   "source": [
    "def sum_even_odd(numbers):\n",
    "    sum_even = sum(num for num in numbers if num % 2 == 0)\n",
    "    sum_odd = sum(num for num in numbers if num % 2 != 0)\n",
    "    return sum_even, sum_odd\n",
    "\n",
    "numbers = [1, 2, 3, 4, 5, 6, 7, 8, 9]\n",
    "print(sum_even_odd(numbers))"
   ]
  },
  {
   "cell_type": "code",
   "execution_count": 10,
   "id": "b79070a5-954f-41e3-8557-98b9cf118243",
   "metadata": {},
   "outputs": [
    {
     "name": "stdout",
     "output_type": "stream",
     "text": [
      "[1, 9, 25, 49, 81, 121, 169, 225, 289, 361, 441, 529, 625, 729, 841, 961, 1089, 1225, 1369, 1521, 1681, 1849, 2025, 2209, 2401, 2601, 2809, 3025, 3249, 3481, 3721, 3969, 4225, 4489, 4761, 5041, 5329, 5625, 5929, 6241, 6561, 6889, 7225, 7569, 7921, 8281, 8649, 9025, 9409, 9801]\n"
     ]
    }
   ],
   "source": [
    "def odd_squares(n):\n",
    "    return [i**2 for i in range(1, n+1) if i % 2 != 0]\n",
    "\n",
    "n = 100\n",
    "print(odd_squares(n))"
   ]
  },
  {
   "cell_type": "code",
   "execution_count": 11,
   "id": "4ef23bcb-0dd8-4f9e-9868-b04bd317ef05",
   "metadata": {},
   "outputs": [
    {
     "name": "stdout",
     "output_type": "stream",
     "text": [
      "{'a': 1, 'b': 2, 'c': 3}\n"
     ]
    }
   ],
   "source": [
    "def combine_lists(keys, values):\n",
    "    return {key: value for key, value in zip(keys, values)}\n",
    "\n",
    "keys = ['a', 'b', 'c']\n",
    "values = [1, 2, 3]\n",
    "\n",
    "print(combine_lists(keys, values))"
   ]
  },
  {
   "cell_type": "code",
   "execution_count": 12,
   "id": "7e3dca88-ddab-4e0d-8979-7c234b9f14bd",
   "metadata": {},
   "outputs": [
    {
     "name": "stdout",
     "output_type": "stream",
     "text": [
      "['e', 'o', 'o']\n"
     ]
    }
   ],
   "source": [
    "def extract_vowels(string):\n",
    "    vowels = [char for char in string if char.lower() in 'aeiou']\n",
    "    return vowels\n",
    "\n",
    "string = \"Hello, World!\"\n",
    "print(extract_vowels(string))"
   ]
  },
  {
   "cell_type": "code",
   "execution_count": 13,
   "id": "e07346de-f3b7-4c82-800a-85fab45eacbc",
   "metadata": {},
   "outputs": [
    {
     "name": "stdout",
     "output_type": "stream",
     "text": [
      "[]\n"
     ]
    }
   ],
   "source": [
    "def remove_non_numeric(list_of_strings):\n",
    "    return [char for char in string if char.isdigit()]\n",
    "\n",
    "# Example usage:\n",
    "\n",
    "list_of_strings = [\"Hello\", \"123\", \"456\"]\n",
    "print(remove_non_numeric(list_of_strings))"
   ]
  },
  {
   "cell_type": "code",
   "execution_count": null,
   "id": "139b5eb0-911f-4f94-81e0-f5eea26c476b",
   "metadata": {},
   "outputs": [],
   "source": [
    "#Challenge Level:"
   ]
  },
  {
   "cell_type": "code",
   "execution_count": 1,
   "id": "d7135e2c-d444-4398-bfa5-3ff1283502de",
   "metadata": {},
   "outputs": [
    {
     "name": "stdout",
     "output_type": "stream",
     "text": [
      "[2, 3, 5, 7, 11, 13, 17, 19, 23, 29]\n"
     ]
    }
   ],
   "source": [
    "def sieve_of_eratosthenes(n):\n",
    "    primes = [True for i in range(n+1)]\n",
    "    p = 2\n",
    "    while (p * p <= n):\n",
    "        if (primes[p] == True):\n",
    "            for i in range(p * p, n+1, p):\n",
    "                primes[i] = False\n",
    "        p += 1\n",
    "    prime_numbers = [p for p in range(2, n) if primes[p]]\n",
    "    return prime_numbers\n",
    "\n",
    "# test the function\n",
    "print(sieve_of_eratosthenes(30))"
   ]
  },
  {
   "cell_type": "code",
   "execution_count": 2,
   "id": "ff98ce9a-c57d-4a26-a052-eea9f9c2b0da",
   "metadata": {},
   "outputs": [
    {
     "name": "stdout",
     "output_type": "stream",
     "text": [
      "[(3, 4, 5), (6, 8, 10)]\n"
     ]
    }
   ],
   "source": [
    "def generate_pythagorean_triplets(limit):\n",
    "    triplets = [(a, b, c) for a in range(1, limit+1)\n",
    "                           for b in range(a, limit+1)\n",
    "                           for c in range(b, limit+1)\n",
    "                           if a**2 + b**2 == c**2]\n",
    "    return triplets\n",
    "\n",
    "# test the function\n",
    "print(generate_pythagorean_triplets(10))"
   ]
  },
  {
   "cell_type": "code",
   "execution_count": 3,
   "id": "d885c5f6-931d-4cbe-9345-4bfc122a0880",
   "metadata": {},
   "outputs": [
    {
     "name": "stdout",
     "output_type": "stream",
     "text": [
      "[(1, 'a'), (1, 'b'), (1, 'c'), (2, 'a'), (2, 'b'), (2, 'c'), (3, 'a'), (3, 'b'), (3, 'c')]\n"
     ]
    }
   ],
   "source": [
    "def generate_combinations(list1, list2):\n",
    "    combinations = [(item1, item2) for item1 in list1 for item2 in list2]\n",
    "    return combinations\n",
    "\n",
    "# test the function\n",
    "list1 = [1, 2, 3]\n",
    "list2 = ['a', 'b', 'c']\n",
    "print(generate_combinations(list1, list2))"
   ]
  },
  {
   "cell_type": "code",
   "execution_count": 4,
   "id": "df989543-5858-4e89-917d-531f5ebdfa85",
   "metadata": {},
   "outputs": [
    {
     "name": "stdout",
     "output_type": "stream",
     "text": [
      "Mean:  5.615384615384615\n",
      "Median:  6\n",
      "Mode:  7\n"
     ]
    }
   ],
   "source": [
    "import statistics\n",
    "\n",
    "def calculate_mean(numbers):\n",
    "    mean = sum(numbers) / len(numbers)\n",
    "    return mean\n",
    "\n",
    "def calculate_median(numbers):\n",
    "    median = statistics.median(numbers)\n",
    "    return median\n",
    "\n",
    "def calculate_mode(numbers):\n",
    "    mode = statistics.mode(numbers)\n",
    "    return mode\n",
    "\n",
    "# test the functions\n",
    "numbers = [1, 2, 3, 4, 4, 5, 6, 7, 7, 7, 8, 9, 10]\n",
    "print(\"Mean: \", calculate_mean(numbers))\n",
    "print(\"Median: \", calculate_median(numbers))\n",
    "print(\"Mode: \", calculate_mode(numbers))"
   ]
  },
  {
   "cell_type": "code",
   "execution_count": 5,
   "id": "7b8c566a-e448-4d34-8bd8-3145b18b16d0",
   "metadata": {},
   "outputs": [
    {
     "name": "stdout",
     "output_type": "stream",
     "text": [
      "[[1], [1, 1], [1, 2, 1], [1, 3, 3, 1], [1, 4, 6, 4, 1]]\n"
     ]
    }
   ],
   "source": [
    "def pascal_triangle(n):\n",
    "    if n == 0:\n",
    "        return []\n",
    "    triangle = [[1]*(i+1) for i in range(n)]\n",
    "    for row in range(2, n):\n",
    "        for col in range(1, row):\n",
    "            triangle[row][col] = triangle[row-1][col-1] + triangle[row-1][col]\n",
    "    return triangle\n",
    "\n",
    "# test the function\n",
    "n = 5\n",
    "print(pascal_triangle(n))"
   ]
  },
  {
   "cell_type": "code",
   "execution_count": 6,
   "id": "e431b134-e710-4bc9-8933-578d9b8471bb",
   "metadata": {},
   "outputs": [
    {
     "name": "stdout",
     "output_type": "stream",
     "text": [
      "[1, 2, 6, 6, 3]\n"
     ]
    }
   ],
   "source": [
    "import math\n",
    "\n",
    "def factorial_digits_sum(n):\n",
    "    return sum(int(digit) for digit in str(math.factorial(n)))\n",
    "\n",
    "# test the function\n",
    "print([factorial_digits_sum(i) for i in range(1, 6)])"
   ]
  },
  {
   "cell_type": "code",
   "execution_count": 7,
   "id": "8657f771-ccbf-4694-903d-43b70a547ee2",
   "metadata": {},
   "outputs": [
    {
     "name": "stdout",
     "output_type": "stream",
     "text": [
      "The longest word is 'sentence' with 8 characters\n"
     ]
    }
   ],
   "source": [
    "def longest_word(sentence):\n",
    "    words = sentence.split()\n",
    "    word_lengths = [len(word) for word in words]\n",
    "    longest_word_length = max(word_lengths)\n",
    "    longest_word = words[word_lengths.index(longest_word_length)]\n",
    "    return longest_word, longest_word_length\n",
    "\n",
    "# test the function\n",
    "sentence = \"This is a sample sentence to find the longest word\"\n",
    "longest_word, longest_word_length = longest_word(sentence)\n",
    "print(f\"The longest word is '{longest_word}' with {longest_word_length} characters\")"
   ]
  },
  {
   "cell_type": "code",
   "execution_count": 8,
   "id": "055879a8-d73f-4d7c-a087-be063eaea582",
   "metadata": {},
   "outputs": [
    {
     "name": "stdout",
     "output_type": "stream",
     "text": [
      "['beautiful', 'I love Python programming']\n"
     ]
    }
   ],
   "source": [
    "def vowel_count(string):\n",
    "    vowels = \"aeiou\"\n",
    "    count = 0\n",
    "    for char in string:\n",
    "        if char.lower() in vowels:\n",
    "            count += 1\n",
    "    return count\n",
    "\n",
    "def filter_vowels(lst):\n",
    "    return [word for word in lst if vowel_count(word) > 3]\n",
    "\n",
    "words = [\"hello\", \"beautiful\", \"world\", \"internet\", \"I love Python programming\", \"e\"]\n",
    "filtered_words = filter_vowels(words)\n",
    "\n",
    "print(filtered_words)"
   ]
  },
  {
   "cell_type": "code",
   "execution_count": 9,
   "id": "ebd9d3f8-be64-4e02-81ab-0e5a7dde81af",
   "metadata": {},
   "outputs": [
    {
     "name": "stdout",
     "output_type": "stream",
     "text": [
      "13501\n"
     ]
    }
   ],
   "source": [
    "def sum_digits(num):\n",
    "    return sum(int(digit) for digit in str(num))\n",
    "\n",
    "def sum_of_digits(num_range):\n",
    "    return sum(sum_digits(num) for num in num_range)\n",
    "\n",
    "numbers = list(range(1, 1001))\n",
    "total = sum_of_digits(numbers)\n",
    "\n",
    "print(total)"
   ]
  },
  {
   "cell_type": "code",
   "execution_count": 10,
   "id": "8085a6c3-c2a9-4002-ad48-587a80b4b3e3",
   "metadata": {},
   "outputs": [
    {
     "name": "stdout",
     "output_type": "stream",
     "text": [
      "[2, 3, 5, 7, 11, 101, 131, 151, 181, 191, 313, 353, 373, 383, 727, 757, 787, 797, 919, 929]\n"
     ]
    }
   ],
   "source": [
    "def is_prime(n):\n",
    "    if n <= 1:\n",
    "        return False\n",
    "    if n <= 3:\n",
    "        return True\n",
    "    if n % 2 == 0 or n % 3 == 0:\n",
    "        return False\n",
    "    i = 5\n",
    "    while i * i <= n:\n",
    "        if n % i == 0 or n % (i + 2) == 0:\n",
    "            return False\n",
    "        i += 6\n",
    "    return True\n",
    "\n",
    "def is_palindrome(n):\n",
    "    return str(n) == str(n)[::-1]\n",
    "\n",
    "prime_palindromic_numbers = [n for n in range(10000) if is_prime(n) and is_palindrome(n)]\n",
    "\n",
    "print(prime_palindromic_numbers)"
   ]
  }
 ],
 "metadata": {
  "kernelspec": {
   "display_name": "Python 3 (ipykernel)",
   "language": "python",
   "name": "python3"
  },
  "language_info": {
   "codemirror_mode": {
    "name": "ipython",
    "version": 3
   },
   "file_extension": ".py",
   "mimetype": "text/x-python",
   "name": "python",
   "nbconvert_exporter": "python",
   "pygments_lexer": "ipython3",
   "version": "3.10.8"
  }
 },
 "nbformat": 4,
 "nbformat_minor": 5
}
